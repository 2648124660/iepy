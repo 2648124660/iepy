{
 "metadata": {
  "name": ""
 },
 "nbformat": 3,
 "nbformat_minor": 0,
 "worksheets": [
  {
   "cells": [
    {
     "cell_type": "markdown",
     "metadata": {},
     "source": [
      "Experiments Analysis Round 4\n",
      "============================\n",
      "\n",
      "Same experiments as round 3 but with the \"diagnosed\" relation.\n",
      "\n",
      "For more details refer to config_round4.py."
     ]
    },
    {
     "cell_type": "markdown",
     "metadata": {},
     "source": [
      "Helper Functions\n",
      "----------------"
     ]
    },
    {
     "cell_type": "code",
     "collapsed": false,
     "input": [
      "%pylab --no-import-all inline\n",
      "\n",
      "# so you can edit analysis_utils.py at your will while working here:\n",
      "%load_ext autoreload\n",
      "%autoreload 1\n",
      "%aimport analysis_utils\n",
      "\n",
      "from analysis_utils import average_stats, group_by_strategy, pprint_solution, pprint_strategy_result"
     ],
     "language": "python",
     "metadata": {},
     "outputs": [
      {
       "output_type": "stream",
       "stream": "stdout",
       "text": [
        "Populating the interactive namespace from numpy and matplotlib\n",
        "The autoreload extension is already loaded. To reload it, use:\n",
        "  %reload_ext autoreload\n"
       ]
      }
     ],
     "prompt_number": 30
    },
    {
     "cell_type": "markdown",
     "metadata": {},
     "source": [
      "Data Loading\n",
      "------------"
     ]
    },
    {
     "cell_type": "markdown",
     "metadata": {},
     "source": [
      "Connect to server:"
     ]
    },
    {
     "cell_type": "code",
     "collapsed": false,
     "input": [
      "from featureforge.experimentation.stats_manager import StatsManager\n",
      "sm = StatsManager(1, \"db_experiments\", \"goedel\")"
     ],
     "language": "python",
     "metadata": {},
     "outputs": [],
     "prompt_number": 2
    },
    {
     "cell_type": "markdown",
     "metadata": {},
     "source": [
      "Load experiments for this round with diagnosed_reference.csv (md5 ab27daf09c202a2f788902bad0a7f6e4)"
     ]
    },
    {
     "cell_type": "code",
     "collapsed": false,
     "input": [
      "config_version = u'1'\n",
      "md5 = u'ab27daf09c202a2f788902bad0a7f6e4'\n",
      "points = [p for p in sm.iter_results() if p[u'config_version'] == config_version and p[u'input_file_md5'] == md5]\n",
      "len(points)"
     ],
     "language": "python",
     "metadata": {},
     "outputs": [
      {
       "metadata": {},
       "output_type": "pyout",
       "prompt_number": 9,
       "text": [
        "20001"
       ]
      }
     ],
     "prompt_number": 9
    },
    {
     "cell_type": "markdown",
     "metadata": {},
     "source": [
      "1. Average results across shufflings.\n",
      "2. Group results by strategy (i.e. put together the different train_percentage)."
     ]
    },
    {
     "cell_type": "code",
     "collapsed": false,
     "input": [
      "avgdata = average_stats(points)\n",
      "data_bystrategy = group_by_strategy(avgdata)"
     ],
     "language": "python",
     "metadata": {},
     "outputs": [],
     "prompt_number": 22
    },
    {
     "cell_type": "markdown",
     "metadata": {},
     "source": [
      "Best Results Filtering \n",
      "----------------------\n",
      "\n",
      "First acceptability criteria for strategies:\n",
      "- Average precision above 80% for all training sizes\n",
      "- At least one training size has recall above zero"
     ]
    },
    {
     "cell_type": "code",
     "collapsed": false,
     "input": [
      "accepted = {}\n",
      "for key, xs in list(data_bystrategy.items()):\n",
      "    if (all(x[\"results\"][\"precision_avg\"] > 0.80 for x in xs) and  # Average precision above 80% for all training sizes\n",
      "        any(x[\"results\"][\"recall_avg\"] > 0 for x in xs)):          # At least one training size has recall above zero\n",
      "        accepted[key] = xs\n",
      "\n",
      "print(\"There are {} data points in total\".format(len(points)))\n",
      "print(\"After summarizing the averages of the 'cross-validation' runs there are {} data points\".format(len(avgdata)))\n",
      "print(\"The datapoints can be grouped into {} different 'strategies' (predictor configurations)\".format(len(data_bystrategy)))\n",
      "print(\"From all the strategies only {} meet the acceptability criteria\".format(len(accepted)))"
     ],
     "language": "python",
     "metadata": {},
     "outputs": [
      {
       "output_type": "stream",
       "stream": "stdout",
       "text": [
        "There are 20001 data points in total\n",
        "After summarizing the averages of the 'cross-validation' runs there are 1000 data points\n",
        "The datapoints can be grouped into 100 different 'strategies' (predictor configurations)\n",
        "From all the strategies only 0 meet the acceptability criteria\n"
       ]
      }
     ],
     "prompt_number": 27
    },
    {
     "cell_type": "markdown",
     "metadata": {},
     "source": [
      "**No acceptable strategies!!**\n",
      "\n",
      "Second acceptability criteria for strategies:\n",
      "- Average precision above 50% for all training sizes\n",
      "- At least one training size has recall above zero"
     ]
    },
    {
     "cell_type": "code",
     "collapsed": false,
     "input": [
      "accepted = {}\n",
      "for key, xs in list(data_bystrategy.items()):\n",
      "    if (all(x[\"results\"][\"precision_avg\"] > 0.50 for x in xs) and  # Average precision above 80% for all training sizes\n",
      "        any(x[\"results\"][\"recall_avg\"] > 0 for x in xs)):          # At least one training size has recall above zero\n",
      "        accepted[key] = xs\n",
      "\n",
      "print(\"From all the strategies only {} meet the acceptability criteria\".format(len(accepted)))"
     ],
     "language": "python",
     "metadata": {},
     "outputs": [
      {
       "output_type": "stream",
       "stream": "stdout",
       "text": [
        "From all the strategies only 1 meet the acceptability criteria\n"
       ]
      }
     ],
     "prompt_number": 28
    },
    {
     "cell_type": "code",
     "collapsed": false,
     "input": [
      "assert len(accepted) == 1\n",
      "accepted_points = accepted.values()[0]\n",
      "\n",
      "pprint_solution(accepted_points[0])\n",
      "pprint_strategy_result(accepted_points)"
     ],
     "language": "python",
     "metadata": {},
     "outputs": [
      {
       "output_type": "stream",
       "stream": "stdout",
       "text": [
        "{u'classifier': u'svm',\n",
        " u'classifier_args': {u'class_weight': {u'false': 1, u'true': 0.1},\n",
        "                      u'gamma': 0.0001,\n",
        "                      u'kernel': u'rbf'},\n",
        " u'dimensionality_reduction': None,\n",
        " u'dimensionality_reduction_dimension': None,\n",
        " u'feature_selection': None,\n",
        " u'feature_selection_dimension': None,\n",
        " u'scaler': True,\n",
        " u'sparse': True}\n",
        "%\ttp\tP\tR\tF1\n",
        "0.07\t0.0\t1.0\t0.0\t0.0\n",
        "0.14\t0.0\t1.0\t0.0\t0.0\n",
        "0.21\t0.0\t1.0\t0.0\t0.0\n",
        "0.28\t0.0\t1.0\t0.0\t0.0\n",
        "0.35\t0.0\t1.0\t0.0\t0.0\n",
        "0.42\t0.0\t1.0\t0.0\t0.0\n",
        "0.49\t0.0\t1.0\t0.0\t0.0\n",
        "0.56\t0.0\t1.0\t0.0\t0.0\n",
        "0.63\t30.0\t0.55\t0.27\t0.28\n",
        "0.7\t0.0\t1.0\t0.0\t0.0\n"
       ]
      }
     ],
     "prompt_number": 33
    },
    {
     "cell_type": "markdown",
     "metadata": {},
     "source": [
      "**This is also not acceptable!!**"
     ]
    },
    {
     "cell_type": "markdown",
     "metadata": {},
     "source": [
      "Best results according to F1:"
     ]
    },
    {
     "cell_type": "code",
     "collapsed": false,
     "input": [
      "data_bystrategy2 = sorted(data_bystrategy.items(), key=lambda (key, xs): max(x[\"results\"][\"f1_avg\"] for x in xs), reverse=True)\n",
      "best = data_bystrategy2[0][1]\n",
      "pprint_solution(best[0])\n",
      "pprint_strategy_result(best)"
     ],
     "language": "python",
     "metadata": {},
     "outputs": [
      {
       "output_type": "stream",
       "stream": "stdout",
       "text": [
        "{u'classifier': u'svm',\n",
        " u'classifier_args': {u'class_weight': {u'false': 1, u'true': 10},\n",
        "                      u'degree': 4,\n",
        "                      u'gamma': 0.0,\n",
        "                      u'kernel': u'poly'},\n",
        " u'dimensionality_reduction': None,\n",
        " u'dimensionality_reduction_dimension': None,\n",
        " u'feature_selection': u'kbest',\n",
        " u'feature_selection_dimension': 500,\n",
        " u'scaler': True,\n",
        " u'sparse': True}\n",
        "%\ttp\tP\tR\tF1\n",
        "0.07\t0.0\t0.17\t0.0021\t0.004\n",
        "0.14\t2.0\t0.42\t0.073\t0.12\n",
        "0.21\t30.0\t0.54\t0.17\t0.25\n",
        "0.28\t34.0\t0.61\t0.25\t0.35"
       ]
      },
      {
       "output_type": "stream",
       "stream": "stdout",
       "text": [
        "\n",
        "0.35\t69.0\t0.63\t0.3\t0.4\n",
        "0.42\t63.0\t0.64\t0.34\t0.43\n",
        "0.49\t49.0\t0.63\t0.37\t0.46\n",
        "0.56\t31.0\t0.63\t0.37\t0.47\n",
        "0.63\t30.0\t0.63\t0.39\t0.48\n",
        "0.7\t22.0\t0.64\t0.42\t0.51\n"
       ]
      }
     ],
     "prompt_number": 37
    },
    {
     "cell_type": "markdown",
     "metadata": {},
     "source": [
      "This is at least a convergent behaviour, but with a low precision curve."
     ]
    },
    {
     "cell_type": "markdown",
     "metadata": {},
     "source": [
      "Conclusions\n",
      "-----------\n",
      "\n",
      "Among the explored configurations, there are no acceptable strategies for the \"diagnosed\" relationship.\n",
      "The best F1 was of 51%, but with a low precision curve that reaches 64%.\n",
      "For bootstrap we desire to have much better precision.\n",
      "\n",
      "Probably the big number of features leads to sparsity and overfitting problems.\n",
      "Ideas for next round of experiments:\n",
      "- Try a reduced feature set.\n",
      "- Try feature selection by frequency filtering."
     ]
    }
   ],
   "metadata": {}
  }
 ]
}